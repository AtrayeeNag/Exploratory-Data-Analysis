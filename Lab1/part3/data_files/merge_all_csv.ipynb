{
 "cells": [
  {
   "cell_type": "code",
   "execution_count": 13,
   "metadata": {},
   "outputs": [
    {
     "name": "stdout",
     "output_type": "stream",
     "text": [
      "6.csv\n",
      "7.csv\n",
      "5.csv\n",
      "4.csv\n",
      "1.csv\n",
      "3.csv\n",
      "2.csv\n"
     ]
    }
   ],
   "source": [
    "import re\n",
    "import csv\n",
    "import collections\n",
    "import glob\n",
    "\n",
    "# Variables\n",
    "\n",
    "total_record = []\n",
    "headerCount = 0\n",
    "\n",
    "for file in glob.glob(\"*.csv\"):\n",
    "    print(file)\n",
    "\n",
    "    with open(file, 'r') as f:\n",
    "        reader = csv.reader(f)\n",
    "        list_record = list(reader)\n",
    "        if headerCount == 0:\n",
    "            headerCount = 1\n",
    "            total_record.extend(list_record)\n",
    "        else:\n",
    "            list_record.pop(0)\n",
    "            total_record.extend(list_record)\n",
    "\n",
    "with open('../combine.csv', 'w') as csvFile:\n",
    "    writer = csv.writer(csvFile)\n",
    "    writer.writerows(total_record)"
   ]
  },
  {
   "cell_type": "code",
   "execution_count": null,
   "metadata": {},
   "outputs": [],
   "source": []
  }
 ],
 "metadata": {
  "kernelspec": {
   "display_name": "Python 3",
   "language": "python",
   "name": "python3"
  },
  "language_info": {
   "codemirror_mode": {
    "name": "ipython",
    "version": 3
   },
   "file_extension": ".py",
   "mimetype": "text/x-python",
   "name": "python",
   "nbconvert_exporter": "python",
   "pygments_lexer": "ipython3",
   "version": "3.6.8"
  }
 },
 "nbformat": 4,
 "nbformat_minor": 2
}

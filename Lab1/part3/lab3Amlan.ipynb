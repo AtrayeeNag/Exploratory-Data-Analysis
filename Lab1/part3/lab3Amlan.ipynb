{
 "cells": [
  {
   "cell_type": "code",
   "execution_count": 1,
   "metadata": {},
   "outputs": [
    {
     "name": "stderr",
     "output_type": "stream",
     "text": [
      "Updating HTML index of packages in '.Library'\n",
      "Making 'packages.html' ... done\n"
     ]
    }
   ],
   "source": [
    "# install.packages(\"rtweet\")"
   ]
  },
  {
   "cell_type": "code",
   "execution_count": 2,
   "metadata": {},
   "outputs": [
    {
     "data": {
      "text/plain": [
       "<Token>\n",
       "<oauth_endpoint>\n",
       " request:   https://api.twitter.com/oauth/request_token\n",
       " authorize: https://api.twitter.com/oauth/authenticate\n",
       " access:    https://api.twitter.com/oauth/access_token\n",
       "<oauth_app> urbangeek_dicLab\n",
       "  key:    jePj0MDsQYiWsfOl5KMYrylM3\n",
       "  secret: <hidden>\n",
       "<credentials> oauth_token, oauth_token_secret\n",
       "---"
      ]
     },
     "metadata": {},
     "output_type": "display_data"
    }
   ],
   "source": [
    "library(rtweet)\n",
    "\n",
    "## access token method: create token and save it as an environment variable\n",
    "create_token(\n",
    "  app = \"urbangeek_dicLab\",\n",
    "  consumer_key = \"jePj0MDsQYiWsfOl5KMYrylM3\",\n",
    "  consumer_secret = \"ZuL9m5BdiJ6WRgELSmszhhWxPwwGQqWlm5kVrVDSWw5vEowp4z\",\n",
    "  access_token = \"28061753-G37g4cKH2eYxI94sTKmJWTE3ZJwUD5C87jgWAF4zu\",\n",
    "  access_secret = \"7m5XdVQCk3520zGPr5NfMDu1l5baCW5JfTDQdFJSlfdXR\")"
   ]
  },
  {
   "cell_type": "code",
   "execution_count": 86,
   "metadata": {},
   "outputs": [
    {
     "name": "stderr",
     "output_type": "stream",
     "text": [
      "Searching for tweets...\n",
      "This may take a few seconds...\n",
      "Finished collecting tweets!\n",
      "Searching for tweets...\n",
      "This may take a few seconds...\n",
      "Finished collecting tweets!\n"
     ]
    }
   ],
   "source": [
    "## search for 10,000 tweets sent from the US\n",
    "\n",
    "# q <- \"\\\"got cold\\\" OR \\\"caught a cold\\\" OR  \\\"got a fever\\\" OR feverish\"\n",
    "\n",
    "# since <- \"2016-12-01\"\n",
    "# until <- \"2016-12-05\"\n",
    "\n",
    "# q <- '\\\"got fever\\\" OR \\\"got a fever\\\" OR \\\"have fever\\\" OR \\\"have a fever\\\" OR \\\"caught fever\\\" \n",
    "# OR \\\"caught a fever\\\" OR \\\"had fever\\\" OR \\\"had a fever\\\" OR \\\"has a fever\\\" OR \\\"down with a fever\\\"'\n",
    "\n",
    "\n",
    "# q <- '\\\"down with fever\\\" OR \\\"got cold\\\" OR \\\"got a cold\\\" OR \\\"have cold\\\" OR \\\"have a cold\\\" \n",
    "# OR \\\"caught cold\\\" OR \\\"caught a cold\\\" OR \\\"had cold\\\" OR \\\"had a cold\\\" OR \\\"got flu\\\" \n",
    "# OR \\\"have flu\\\" OR \\\"caught flu\\\"'\n",
    "\n",
    "\n",
    "\n",
    "q <- \"\\\"feverish\\\" OR \\\"running a fever\\\" OR \\\"running a high fever\\\" OR \\\"running a temperature\\\" \n",
    "OR \\\"have a temperature\\\" OR \\\"got a temperature\\\" OR \\\"suffering from fever\\\" \n",
    "OR \\\"fever broke\\\" OR \\\"viral fever\\\"\"\n",
    "\n",
    "\n",
    "rt <- search_tweets(\n",
    "    q, \n",
    "    n = 15000,\n",
    "    geocode = \"39.8,-95.583068847656,2408km\",  \n",
    "    retryonratelimit = TRUE,\n",
    "    lang = \"en\",\n",
    "    include_rts = FALSE\n",
    ")\n",
    "\n",
    "## create lat/lng variables using all available tweet and profile geo-location data\n",
    "rt <- lat_lng(rt)\n",
    "\n",
    "# rt"
   ]
  },
  {
   "cell_type": "code",
   "execution_count": 87,
   "metadata": {},
   "outputs": [],
   "source": [
    "save_as_csv(rt, \"ll__collected_data_mar_2_c.csv\", prepend_ids = TRUE, na = \"\",\n",
    "  fileEncoding = \"UTF-8\")\n"
   ]
  },
  {
   "cell_type": "code",
   "execution_count": 88,
   "metadata": {},
   "outputs": [
    {
     "data": {
      "text/html": [
       "699"
      ],
      "text/latex": [
       "699"
      ],
      "text/markdown": [
       "699"
      ],
      "text/plain": [
       "[1] 699"
      ]
     },
     "metadata": {},
     "output_type": "display_data"
    }
   ],
   "source": [
    "nrow(rt)"
   ]
  },
  {
   "cell_type": "code",
   "execution_count": null,
   "metadata": {},
   "outputs": [],
   "source": []
  }
 ],
 "metadata": {
  "kernelspec": {
   "display_name": "R",
   "language": "R",
   "name": "ir"
  },
  "language_info": {
   "codemirror_mode": "r",
   "file_extension": ".r",
   "mimetype": "text/x-r-source",
   "name": "R",
   "pygments_lexer": "r",
   "version": "3.5.1"
  }
 },
 "nbformat": 4,
 "nbformat_minor": 2
}
